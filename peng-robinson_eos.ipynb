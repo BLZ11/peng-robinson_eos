{
 "cells": [
  {
   "cell_type": "code",
   "execution_count": 34,
   "metadata": {},
   "outputs": [],
   "source": [
    "import numpy as np\n",
    "from scipy.optimize import fsolve  \n",
    "from scipy.integrate import quad "
   ]
  },
  {
   "cell_type": "markdown",
   "metadata": {},
   "source": [
    "# Task 2: Computing Peng-Robinson EOS"
   ]
  },
  {
   "cell_type": "markdown",
   "metadata": {},
   "source": [
    "Give our input conditions and the gas-specific constants that we are going to use."
   ]
  },
  {
   "cell_type": "code",
   "execution_count": 35,
   "metadata": {},
   "outputs": [],
   "source": [
    "#Input conditions\n",
    "## intial pressure and volume\n",
    "P1 = 100 # in bar\n",
    "T1 = 26.85 # in Celsius\n",
    "\n",
    "## final pressure and volume\n",
    "P2 = 40 # in bar\n",
    "T2 = -28.15 # in Celsius"
   ]
  },
  {
   "cell_type": "markdown",
   "metadata": {},
   "source": [
    "Since we would be looking at different species besides water, we elected to include a prototype that will have the critical points and important properties for water and N$_2$. Use critical constants values from Appendix A of Koretsky."
   ]
  },
  {
   "cell_type": "code",
   "execution_count": 36,
   "metadata": {},
   "outputs": [],
   "source": [
    "species = 'N2' # enter the name of the species here\n",
    "def properties(species):\n",
    "    \"\"\"Data for the critical temperature and pressure of a species\"\"\"\n",
    "    if species in np.array(['H2O','water']):\n",
    "        T_c = 647.3 # critical temperature of Water (in Kelvin)\n",
    "        P_c = 220.48e5 # critical pressure of Water (in Pascals)\n",
    "        MW = 18e-3 #Molecular weight of Water kg/gmol \n",
    "        w = 0.344 #Pitzer acentric factor of Water (important for Peng-Robinson EOS)\n",
    "    elif species in np.array(['N2']):\n",
    "        T_c = 126.2 #K\n",
    "        P_c = 33.84e5 #Pa\n",
    "        MW = 28.0134e-3 #Molecular weight of N2 kg/mol \n",
    "        w = 0.039 #Pitzer acentric factor\n",
    "    return (T_c, P_c, w, MW)"
   ]
  },
  {
   "cell_type": "markdown",
   "metadata": {},
   "source": [
    "# Peng-Robinson Equation of State:\n",
    "$$P = \\frac{RT}{v-b} -\\frac{a \\alpha}{v^2 + 2bv - b^2}$$\n",
    "where \n",
    "$$ a = 0.45724 \\frac{\\left(R T_c \\right)^2}{P_c}, $$\n",
    "\n",
    "$$ b = 0.07780 \\frac{R T_c}{P_c}, $$\n",
    "\n",
    "$$ \\alpha = \\left[ 1 + \\kappa \\left(1 - \\sqrt{\\frac{T}{T_c}} \\right)\\right]^2, $$\n",
    "\n",
    "$$ \\kappa = 0.37464 + 1.54226 \\omega - 0.26992 \\omega^2 $$"
   ]
  },
  {
   "cell_type": "code",
   "execution_count": 37,
   "metadata": {},
   "outputs": [],
   "source": [
    "def P_PR(T, v, species):\n",
    "    \"\"\"Compute the pressure from Peng-Robinson EOS\"\"\"\n",
    "    T_c, P_c, w, MW  = properties(species)\n",
    "    T_K = T + 273.15 # temperature converted from Celcius to Kelvin\n",
    "    R_gas = 8.314 # gas constant in J K^-1 mol^-1\n",
    "    a = 0.45724 * (R_gas * T_c)**2 / P_c\n",
    "    b = 0.07780 * R_gas * T_c / P_c\n",
    "    T_r = T_K / T_c # reduced temperature\n",
    "    kappa = 0.37464 + 1.54226 * w - 0.26992 * w**2\n",
    "    alpha = (1 + kappa * (1 - np.sqrt(T_r)))**2\n",
    "    P = (R_gas * T_K)/(v - b) - a * alpha / (v**2 + 2 * b * v - b**2) # in Pa\n",
    "    return P"
   ]
  },
  {
   "cell_type": "markdown",
   "metadata": {},
   "source": [
    "# Ideal Gas Law\n",
    "\n",
    "$$ v = \\frac{R T}{P} $$\n",
    "\n",
    "We will need this later to determine a good guess for $v$ using the given conditions."
   ]
  },
  {
   "cell_type": "code",
   "execution_count": 38,
   "metadata": {},
   "outputs": [],
   "source": [
    "def v_ideal(P,T):\n",
    "    \"\"\"Molar volume from the ideal gas law\"\"\"\n",
    "    R_gas = 8.314 # gas constant in J K^-1 mol^-1\n",
    "    P_Pa = P * 1e5 # convert bar to Pa\n",
    "    T_K = 273.15 + T\n",
    "    v = R_gas * T_K / P_Pa # in m^3/mol\n",
    "    return v "
   ]
  },
  {
   "cell_type": "markdown",
   "metadata": {},
   "source": [
    "# Solving for the molar volume\n",
    "\n",
    "Now we will solve for volume using fsolve. Let us define a function that solves for Peng-Robinson EOS given the value of the pressure, molar volume, and temperature "
   ]
  },
  {
   "cell_type": "code",
   "execution_count": 39,
   "metadata": {},
   "outputs": [],
   "source": [
    "def func(v, P, T, species = species): # While writing equation of state functions, follow the sequenece: v,P,T\n",
    "    RHS = P_PR(T, v, species) # pressure from Peng-Robinson EOS, given the T and v\n",
    "    LHS = P*1e5 # given pressure in Pa\n",
    "    return LHS-RHS"
   ]
  },
  {
   "cell_type": "markdown",
   "metadata": {},
   "source": [
    "Now we will solve for $v$ using Peng-Robinson EOS. We will use the $v$ from the ideal gas law as a guess"
   ]
  },
  {
   "cell_type": "code",
   "execution_count": 40,
   "metadata": {},
   "outputs": [],
   "source": [
    "args1 = (P1,T1) # additional arguments for the function \n",
    "                # (NOTE: The sequence of writing the additional arguments \n",
    "                # should be same as you have written in function definition)\n",
    "        \n",
    "v01 = v_ideal(*args1) # initial guess for volume \n",
    "                      # (NOTE: It is important to use correct initial guess \n",
    "                      # to get the volume. For starters, use Ideal gas volume \n",
    "                      # as an initial guess)\n",
    "\n",
    "# volume for state 1\n",
    "v1= fsolve(func,v01,args1)\n",
    "\n",
    "# volume for state 2\n",
    "args2 = (P2,T2)\n",
    "v02 = v_ideal(*args2)\n",
    "v2 = fsolve(func,v02,args2)"
   ]
  },
  {
   "cell_type": "markdown",
   "metadata": {},
   "source": [
    "# Print Results"
   ]
  },
  {
   "cell_type": "markdown",
   "metadata": {},
   "source": [
    "We will need to print $v$. Here is a code that will do it (no need to change it):"
   ]
  },
  {
   "cell_type": "code",
   "execution_count": 41,
   "metadata": {},
   "outputs": [
    {
     "name": "stdout",
     "output_type": "stream",
     "text": [
      "Results for N2:\n",
      "--------------------------------------------------------------------------\n",
      "| State | Temperature (C) | Pressure (bar) | Specific Volume (m^3 kg^-1) |\n",
      "--------------------------------------------------------------------------\n",
      "|   1   |      26.85      |     100.00     |          0.008807           |\n",
      "|   2   |     -28.15      |     40.00      |          0.017418           |\n",
      "--------------------------------------------------------------------------\n"
     ]
    }
   ],
   "source": [
    "def print_specific_volume(v, T, p, species):\n",
    "    \"\"\"Print the specific volume, temperature, and pressure of the species\"\"\"\n",
    "    T_c, P_c, w, MW  = properties(species)\n",
    "    print(f'Results for {species}:')\n",
    "    num_lin = 74 * '-'\n",
    "    print(num_lin)\n",
    "    print('| State | Temperature (C) | Pressure (bar) | Specific Volume (m^3 kg^-1) |')\n",
    "    print(num_lin)\n",
    "    for l in range(T.shape[0]):\n",
    "        print(f'|{l + 1:^7.0f}|{T[l]:^17.2f}|{p[l]:^16.2f}|{v[l]/MW:^29.6f}|')\n",
    "    print(num_lin)\n",
    "    return None\n",
    "v_array = np.array([v1[0], v2[0]])\n",
    "T_array = np.array([T1, T2])\n",
    "p_array = np.array([P1, P2])\n",
    "print_specific_volume(v_array, T_array, p_array, species)"
   ]
  },
  {
   "cell_type": "markdown",
   "metadata": {},
   "source": [
    "Check your results with the values in Steam tables. They should be very similar or match. "
   ]
  },
  {
   "cell_type": "markdown",
   "metadata": {},
   "source": [
    "# Departure functions for the Peng-Robinson EOS\n",
    "Departure functions:\n",
    "\n",
    "$$\\displaystyle \\Delta h' (T,P) = -\\int_v^\\infty \\left[ T \\left(\\frac{\\partial P}{\\partial T}\\right)_v +v \\left(\\frac{\\partial P}{\\partial v}\\right)_T \\right] dv$$\n",
    "\n",
    "$$\\displaystyle \\Delta s' (T,P) =  -\\int_v^\\infty \\left[ \n",
    " \\left( \\frac{\\partial P}{\\partial T} \\right)_v - \\left(\\frac{R}{v}\\right) \\right] dv + R \\ln \\left( \\frac{Pv}{RT}\\right)$$"
   ]
  },
  {
   "cell_type": "markdown",
   "metadata": {},
   "source": [
    "Using the Peng-Robinson EOS, we can derive $\\left( \\frac{\\partial P}{\\partial T} \\right)_v$ and $\\left(\\frac{\\partial P}{\\partial v}\\right)_T$. They are:\n",
    "$$ \\left( \\frac{\\partial P}{\\partial T} \\right)_v  = \\frac{R}{v - b} - \\left( \\frac{a}{v^2 + 2vb - b^2} \\right) \\frac{\\partial \\alpha}{\\partial T}$$\n",
    "$$ \\frac{\\partial \\alpha}{\\partial T} = 2 \\left(1 + \\kappa \\left[ 1 - \\sqrt{\\frac{T}{T_c}} \\right] \\right) \\left( -\\frac{\\kappa}{2 T_c} \\sqrt{\\frac{T_c}{T}} \\right) = -\\frac{\\kappa}{T_c} \\sqrt{\\alpha \\frac{T_c}{T}} = - \\kappa \\sqrt{\\frac{\\alpha}{T T_c}}$$\n",
    "$$ \\left(\\frac{\\partial P}{\\partial v}\\right)_T = -\\left[ \\frac{RT}{(v - b)^2} - \\frac{2a\\alpha(v + b)}{(v^2 + 2bv - b^2)^2} \\right]$$\n",
    "\n",
    "\n",
    "The $\\Delta h' (T,P)$ and $\\Delta s' (T,P)$ will be solved via numerical integration. \n",
    "\n",
    "Two seperate functions will be created for each integrand, and one function will be created to compute $\\Delta h' (T,P)$ and $\\Delta s' (T,P)$ per the user's request. Code will vary for each student, but final answer should be the same."
   ]
  },
  {
   "cell_type": "code",
   "execution_count": 42,
   "metadata": {},
   "outputs": [],
   "source": [
    "def dhprim_integrand(v, T, species):\n",
    "    \"\"\"Intgrand for the Departure Function for enthalpy\"\"\"\n",
    "    T_c, P_c, w, MW  = properties(species)\n",
    "    R_gas = 8.314 \n",
    "    a = 0.45724 * (R_gas * T_c)**2 / P_c\n",
    "    b = 0.07780 * R_gas * T_c / P_c\n",
    "    T_r = T / T_c # reduced temperature\n",
    "    kappa = 0.37464 + 1.54226 * w - 0.26992 * w**2\n",
    "    alpha = (1 + kappa * (1 - np.sqrt(T_r)))**2\n",
    "    \n",
    "    # derivatives \n",
    "    dalpha_dT = -kappa * np.sqrt(alpha / (T_r)) / T_c\n",
    "    dP_dT = R_gas / (v - b) - dalpha_dT * (a / (v**2 + 2 * v * b - b**2))\n",
    "    dP_dv = - (R_gas * T / (v - b)**2 - (2 * a * alpha * (v + b)) / (v**2 + 2 * v * b - b**2)**2)\n",
    "    \n",
    "    # integrand \n",
    "    integrand = dP_dT * T + dP_dv * v # in J/mol\n",
    "    return integrand\n",
    "\n",
    "def dsprim_integrand(v, T, species):\n",
    "    \"\"\"Integrand for the Departure Function for entropy\"\"\"\n",
    "    T_c, P_c, w, MW  = properties(species)\n",
    "    R_gas = 8.314 \n",
    "    a = 0.45724 * (R_gas * T_c)**2 / P_c\n",
    "    b = 0.07780 * R_gas * T_c / P_c\n",
    "    T_r = T / T_c # reduced temperature\n",
    "    kappa = 0.37464 + 1.54226 * w - 0.26992 * w**2\n",
    "    alpha = (1 + kappa * (1 - np.sqrt(T_r)))**2\n",
    "    \n",
    "    # derivatives \n",
    "    dalpha_dT = -kappa * np.sqrt(alpha / T_r) / T_c\n",
    "    dP_dT = R_gas / (v - b) - dalpha_dT * (a / (v**2 + 2 * v * b - b**2))\n",
    "    \n",
    "    # integrand \n",
    "    integrand = dP_dT - R_gas / v # in J/mol\n",
    "    return integrand\n",
    "\n",
    "def dh_ds_prim(v, T, P, species):\n",
    "    \"\"\"Departure function values for dh' and ds'\"\"\"\n",
    "    T_K = T + 273.15\n",
    "    P_Pa = P * 1e5 # in Pa\n",
    "    arguments = (T_K, species)\n",
    "    R_gas = 8.314\n",
    "    \n",
    "    # Dh departure function\n",
    "    dh_prime = -quad(dhprim_integrand, v, np.inf, args=arguments)[0]\n",
    "    \n",
    "    # Ds departure function\n",
    "    ds_integral = quad(dsprim_integrand, v, np.inf, args=arguments)[0]\n",
    "    ds_prime = -ds_integral + R_gas * np.log(P_Pa * v / (R_gas * T_K))\n",
    "    return (dh_prime, ds_prime)"
   ]
  },
  {
   "cell_type": "markdown",
   "metadata": {},
   "source": [
    "# Print the results"
   ]
  },
  {
   "cell_type": "code",
   "execution_count": 43,
   "metadata": {},
   "outputs": [
    {
     "name": "stdout",
     "output_type": "stream",
     "text": [
      "Results for N2:\n",
      "------------------------------------------------\n",
      "| State | Dh' (J mol^-1) | Ds' (J K^-1 mol^-1) |\n",
      "------------------------------------------------\n",
      "|   1   |    -632.514    |       -1.888        |\n",
      "|   2   |    -431.213    |       -1.373        |\n",
      "------------------------------------------------\n"
     ]
    }
   ],
   "source": [
    "def partion_func_results(v, T, p, species):\n",
    "    \"\"\"Print results for the entropy and enthalpy departure functions\"\"\"\n",
    "    h_array = []\n",
    "    s_array = []\n",
    "    print(f'Results for {species}:')\n",
    "    num_lin = 48 * '-'\n",
    "    print(num_lin)\n",
    "    print(\"| State | Dh' (J mol^-1) | Ds' (J K^-1 mol^-1) |\")\n",
    "    print(num_lin)\n",
    "    for l in range(T.shape[0]):\n",
    "        h, s = dh_ds_prim(v[l], T[l], p[l], species)\n",
    "        h_array += h,\n",
    "        s_array += s,\n",
    "        print(f'|{l + 1:^7.0f}|{h:^16.3f}|{s:^21.3f}|')\n",
    "    print(num_lin)\n",
    "    return (np.array(h_array), np.array(s_array))\n",
    "\n",
    "h_array, s_array = partion_func_results(v_array, T_array, p_array, species)"
   ]
  },
  {
   "cell_type": "markdown",
   "metadata": {},
   "source": [
    "# Analytical Results (Different Approach for Task 2)\n",
    "\n",
    "If you were to solve the departure function analytically (via partial fraction decompositions and substitution), you will achieve the following equations for $\\Delta h'$ and $\\Delta s'$: \n",
    "\n",
    "$$ h_{T,P} - h_{T,P}^{ig} = R T_c \\left[ T_r (Z - 1) - (1 + \\kappa) \\beta  \\sqrt{\\alpha} \\ln \\left(\\frac{Z + \\left( \\sqrt{2} + 1 \\right) B}{Z - \\left(\\sqrt{2} - 1 \\right) B} \\right)\\right], $$\n",
    "\n",
    "$$ s_{T,P} - s_{T,P}^{ig} = R \\left[ \\ln(Z - B) - \\beta \\kappa \\left( \\frac{1 + \\kappa}{\\sqrt{T_r}} - \\kappa \\right) \\ln \\left(\\frac{Z + \\left( \\sqrt{2} + 1 \\right) B}{Z - \\left(\\sqrt{2} - 1 \\right) B} \\right) \\right], $$ \n",
    "\n",
    "where \n",
    "$$ \\beta = \\frac{0.45724}{2 (0.07780)\\sqrt{2}}, $$\n",
    "$$ B = 0.07780 \\frac{P_r}{T_r},$$\n",
    "$$ Z = \\frac{P v}{R T} $$\n",
    "\n",
    "Note that this equation is similar to the [wikipedia](https://en.wikipedia.org/wiki/Departure_function) results. The difference here is we used exact values for the departure functions (e.g., Wikipedia page rounds $1 + \\sqrt{2} \\approx 2.414$ and $\\sqrt{2} - 1 \\approx 0.414$ rather than computing the exact $1 + \\sqrt{2}$ and $\\sqrt{2} - 1$ values, respectively)."
   ]
  },
  {
   "cell_type": "code",
   "execution_count": 44,
   "metadata": {},
   "outputs": [
    {
     "name": "stdout",
     "output_type": "stream",
     "text": [
      "Results for N2:\n",
      "------------------------------------------------\n",
      "| State | Dh' (J mol^-1) | Ds' (J K^-1 mol^-1) |\n",
      "------------------------------------------------\n",
      "|   1   |    -632.514    |       -1.888        |\n",
      "|   2   |    -431.213    |       -1.373        |\n",
      "------------------------------------------------\n"
     ]
    }
   ],
   "source": [
    "def h_s_ana(v, T, p, species):\n",
    "    T_c, P_c, w, MW  = properties(species)\n",
    "    T_K = T + 273.15\n",
    "    P_Pa = p * 1e5 # in Pa\n",
    "    R_gas = 8.314 \n",
    "    \n",
    "    # reduce variables\n",
    "    T_r = T_K / T_c \n",
    "    P_r = P_Pa / P_c \n",
    "    B = 0.07780 * P_r / T_r\n",
    "    kappa = 0.37464 + 1.54226 * w - 0.26992 * w**2\n",
    "    alpha = (1 + kappa * (1 - np.sqrt(T_r)))**2\n",
    "    constant = (0.45724)/ (2 * np.sqrt(2) * 0.07780) # combine constant of a/(b * 2sqrt(2))\n",
    "    \n",
    "    # compressibility\n",
    "    Z = P_Pa * v / (R_gas * T_K)\n",
    "    \n",
    "    # enthalpy \n",
    "    log = np.log((Z + (np.sqrt(2) + 1) * B)/(Z - (np.sqrt(2) - 1) * B))\n",
    "    term1 = constant * (1 + kappa) * np.sqrt(alpha) * log\n",
    "    term2 = T_r * (Z - 1)\n",
    "    h = R_gas * T_c * (term2 - term1)\n",
    "    \n",
    "    # entropy\n",
    "    term3 = constant * kappa * ((1 + kappa) / np.sqrt(T_r) - kappa) * log\n",
    "    term4 = np.log(Z - B)\n",
    "    s = R_gas * (term4 - term3)\n",
    "    return (h, s)\n",
    "\n",
    "\n",
    "def ana_partion_func_results(v, T, p, species):\n",
    "    \"\"\"Print results for the entropy and enthalpy departure functions (using analytical method)\"\"\"\n",
    "    h_array = []\n",
    "    s_array = []\n",
    "    print(f'Results for {species}:')\n",
    "    num_lin = 48 * '-'\n",
    "    print(num_lin)\n",
    "    print(\"| State | Dh' (J mol^-1) | Ds' (J K^-1 mol^-1) |\")\n",
    "    print(num_lin)\n",
    "    for l in range(T.shape[0]):\n",
    "        h, s = h_s_ana(v[l], T[l], p[l], species)\n",
    "        h_array += h,\n",
    "        s_array += s,\n",
    "        print(f'|{l + 1:^7.0f}|{h:^16.3f}|{s:^21.3f}|')\n",
    "    print(num_lin)\n",
    "    return None\n",
    "\n",
    "ana_partion_func_results(v_array, T_array, p_array, species)"
   ]
  },
  {
   "cell_type": "markdown",
   "metadata": {},
   "source": [
    "Numerical and analytical results are agreeing!"
   ]
  },
  {
   "cell_type": "markdown",
   "metadata": {},
   "source": [
    "# Task 3: Computing Turbine Work and Integrated Heat Capacity\n",
    "\n",
    "Compute $\\displaystyle \\int c_p dT$ using the $c_p$ temperature dependent term:\n",
    "\n",
    "$$ c_p (T) = R\\left[ a + bT + \\frac{c}{T^2}  \\right]$$\n",
    "\n",
    "Now, we will integrate with respect to $T$ to get: \n",
    "\n",
    "$$ \\Delta h_{ig} = \\int_{T_1}^{T_2} c_p dT = R \\left[ a \\left( T_2 - T_1 \\right) + \\frac{b}{2} (T_2^2 - T_1^2) - \n",
    "c \\left( \\frac{1}{T_2} - \\frac{1}{T_1} \\right) \\right]$$"
   ]
  },
  {
   "cell_type": "code",
   "execution_count": 45,
   "metadata": {},
   "outputs": [
    {
     "name": "stdout",
     "output_type": "stream",
     "text": [
      "Results for N2:\n",
      "----------------------------------------------------------\n",
      "| T_1 (C) | T_2 (C) | Integrated Heat Capacity (J / mol) |\n",
      "----------------------------------------------------------\n",
      "|  26.85  | -28.15  |             -1598.622              |\n",
      "----------------------------------------------------------\n"
     ]
    }
   ],
   "source": [
    "def cpdT(T_1,T_2, species):\n",
    "    \"\"\"Integrated ideal heat capacity\"\"\"\n",
    "    R_gas = 8.314\n",
    "    if species in np.array(['N2']):\n",
    "        coeff = np.array([3.280,0.593e-3,0.04e5])\n",
    "    elif species in np.array(['H2O', 'water']):\n",
    "        coeff = np.array([3.470, 1.45e-3,0.121e5])\n",
    "    h_ig = R_gas * (coeff[0] * (T_2 - T_1) + (coeff[1]/ 2) * (T_2**2 - T_1**2) - coeff[2] * (1 / T_2 - 1 / T_1))\n",
    "    return h_ig\n",
    "\n",
    "def print_cpdT(T, species):\n",
    "    \"\"\"Print the integrated ideal heat capacity\"\"\"\n",
    "    print(f'Results for {species}:')\n",
    "    num_lin = 58 * '-'\n",
    "    print(num_lin)\n",
    "    print(\"| T_1 (C) | T_2 (C) | Integrated Heat Capacity (J / mol) |\")\n",
    "    print(num_lin)\n",
    "    T_1 = T[0] + 273.15\n",
    "    T_2 = T[1] + 273.15 \n",
    "    h_ig = cpdT(T_1, T_2, species)\n",
    "    print(f'|{T[0]:^9.2f}|{T[1]:^9.2f}|{h_ig:^36.3f}|')\n",
    "    print(num_lin)\n",
    "    return h_ig\n",
    "\n",
    "h_ig = print_cpdT(T_array, species)"
   ]
  },
  {
   "cell_type": "markdown",
   "metadata": {},
   "source": [
    "Now we calculate the work. The work of the turbine is calculated as: \n",
    "$$ w_{\\text{turbine}} =  - \\Delta h_{rg} = -\\left( \\Delta h_2^{\\text{'}} - \\Delta h_1^{\\text{'}} + \\Delta h_{ig} \\right)$$"
   ]
  },
  {
   "cell_type": "code",
   "execution_count": 46,
   "metadata": {},
   "outputs": [
    {
     "name": "stdout",
     "output_type": "stream",
     "text": [
      "Results for N2:\n",
      "-----------------------------------------------\n",
      "| T_1 (C) | T_2 (C) | Turbine Work (kJ / mol) |\n",
      "-----------------------------------------------\n",
      "|  26.85  | -28.15  |          1.397          |\n",
      "-----------------------------------------------\n"
     ]
    }
   ],
   "source": [
    "def w_turbine(diff_h1_prim, diff_h2_prim, diff_ig):\n",
    "    \"\"\"Calculate the work of a turbine\"\"\"\n",
    "    w_t = -( diff_h2_prim - diff_h1_prim + diff_ig)\n",
    "    return w_t\n",
    "\n",
    "def print_w_turbine(T, h1_prim, h2_prim, diff_ig, species):\n",
    "    \"\"\"Print the integrated ideal heat capacity\"\"\"\n",
    "    print(f'Results for {species}:')\n",
    "    num_lin = 47 * '-'\n",
    "    print(num_lin)\n",
    "    print(\"| T_1 (C) | T_2 (C) | Turbine Work (kJ / mol) |\")\n",
    "    print(num_lin)\n",
    "    T_1 = T[0] + 273.15\n",
    "    T_2 = T[1] + 273.15 \n",
    "    w_t = w_turbine(h1_prim, h2_prim, diff_ig)\n",
    "    print(f'|{T[0]:^9.2f}|{T[1]:^9.2f}|{w_t/1000:^25.3f}|')\n",
    "    print(num_lin)\n",
    "    return w_t\n",
    "\n",
    "w_t = print_w_turbine(T_array, *h_array, h_ig, species)"
   ]
  },
  {
   "cell_type": "markdown",
   "metadata": {},
   "source": [
    "# Task 4: Isoentropic Temperature and Work"
   ]
  },
  {
   "cell_type": "markdown",
   "metadata": {},
   "source": [
    "To find the isoentropic temperature, we set the following two equations to equal: \n",
    "$$ \\int_{T_1}^{T_2} \\frac{c_p}{T} dT = R \\ln \\left( \\frac{P_2}{P_1} \\right)$$\n",
    "The integral on the left hand side is:\n",
    "$$ \\int_{T_1}^{T_2} \\frac{c_p}{T} dT =  R \\left[ a \\ln \\left( \\frac{T_2}{T_1} \\right)  + b \\left( T_2 - T_1 \\right) - \\frac{c}{2} \\left( \\frac{1}{T_2^2} - \\frac{1}{T_1^2} \\right)\\right]$$\n",
    "\n",
    "We created two functions (one for the left-hand side and the other for the right-hand side). We use fsolve to find $T_2$."
   ]
  },
  {
   "cell_type": "code",
   "execution_count": 47,
   "metadata": {},
   "outputs": [
    {
     "name": "stdout",
     "output_type": "stream",
     "text": [
      "Isoentropic exit temperature for N2: -42.34 C\n"
     ]
    }
   ],
   "source": [
    "def cp_TdT(T_1, T_2, species): \n",
    "    \"\"\"Computing entropy from Integrated Heat Capacities\"\"\"\n",
    "    R_gas = 8.314\n",
    "    if species in np.array(['N2']):\n",
    "        coeff = np.array([3.280, 0.593e-3, 0.04e5])\n",
    "    elif species in np.array(['H2O','water']):\n",
    "        coeff = np.array([3.470, 1.45e-3, 0.121e5])\n",
    "    integration = R_gas * (coeff[0] * np.log(T_2 / T_1) + coeff[1] * (T_2 - T_1) - (coeff[2] / 2) * (1 / T_2**2 - 1 / T_1**2))\n",
    "    return integration\n",
    "\n",
    "def s_p(p_1, p_2):\n",
    "    \"\"\"Computing the entropy term on the right\"\"\"\n",
    "    R_gas = 8.314\n",
    "    s = R_gas * np.log(p_2 / p_1)\n",
    "    return s\n",
    "\n",
    "def solve_isoentropic(T_2, T_1, p_1, p_2, species):\n",
    "    \"\"\"Solve for T for isoentropic\"\"\"\n",
    "    T_1K = T_1 + 273.15\n",
    "    T_2K = T_2 + 273.15\n",
    "    lhs = cp_TdT(T_1K, T_2K, species)\n",
    "    rhs = s_p(p_1, p_2)\n",
    "    return lhs - rhs\n",
    "\n",
    "T_trial = T_array[1] \n",
    "arguments = (T_array[0], *p_array, species)\n",
    "T_isoentropic = fsolve(solve_isoentropic,T_trial,arguments)[0]\n",
    "\n",
    "print(f'Isoentropic exit temperature for {species}: {T_isoentropic:0.2f} C')"
   ]
  },
  {
   "cell_type": "markdown",
   "metadata": {},
   "source": [
    "Now we will compute departure functions for enthalpy and entropy (see State 2):"
   ]
  },
  {
   "cell_type": "code",
   "execution_count": 48,
   "metadata": {},
   "outputs": [
    {
     "name": "stdout",
     "output_type": "stream",
     "text": [
      "Results for N2:\n",
      "------------------------------------------------\n",
      "| State | Dh' (J mol^-1) | Ds' (J K^-1 mol^-1) |\n",
      "------------------------------------------------\n",
      "|   1   |    -632.514    |       -1.888        |\n",
      "|   2   |    -453.058    |       -0.908        |\n",
      "------------------------------------------------\n"
     ]
    }
   ],
   "source": [
    "T_iso_array = np.array([T_array[0], T_isoentropic])\n",
    "h_iso_array, s_iso_array = partion_func_results(v_array, T_iso_array, p_array, species)"
   ]
  },
  {
   "cell_type": "markdown",
   "metadata": {},
   "source": [
    "For the ideal gas enthalpy, we get:"
   ]
  },
  {
   "cell_type": "code",
   "execution_count": 49,
   "metadata": {},
   "outputs": [
    {
     "name": "stdout",
     "output_type": "stream",
     "text": [
      "Results for N2:\n",
      "----------------------------------------------------------\n",
      "| T_1 (C) | T_2 (C) | Integrated Heat Capacity (J / mol) |\n",
      "----------------------------------------------------------\n",
      "|  26.85  | -42.34  |             -2010.505              |\n",
      "----------------------------------------------------------\n"
     ]
    }
   ],
   "source": [
    "h_iso_ig = print_cpdT(T_iso_array, species)"
   ]
  },
  {
   "cell_type": "markdown",
   "metadata": {},
   "source": [
    "Finally, the isoentropic work for the turbine:"
   ]
  },
  {
   "cell_type": "code",
   "execution_count": 32,
   "metadata": {},
   "outputs": [
    {
     "name": "stdout",
     "output_type": "stream",
     "text": [
      "Results for N2:\n",
      "-----------------------------------------------\n",
      "| T_1 (C) | T_2 (C) | Turbine Work (kJ / mol) |\n",
      "-----------------------------------------------\n",
      "|  26.85  | -42.34  |          1.831          |\n",
      "-----------------------------------------------\n"
     ]
    }
   ],
   "source": [
    "w_iso_t = print_w_turbine(T_iso_array, *h_iso_array, h_iso_ig, species)"
   ]
  },
  {
   "cell_type": "markdown",
   "metadata": {},
   "source": [
    "# Task 5: Efficiency of the Turbine\n",
    "\n",
    "The efficiency of the turbine is computed as: \n",
    "$$ \\eta_{\\text{turbine}} = \\frac{W_{\\text{real gas}}}{W_{\\text{isoentropic}}} \\times 100$$"
   ]
  },
  {
   "cell_type": "code",
   "execution_count": 33,
   "metadata": {},
   "outputs": [
    {
     "name": "stdout",
     "output_type": "stream",
     "text": [
      "Efficiency of the turbine used: 76.31%\n"
     ]
    }
   ],
   "source": [
    "def eta(W_rg, W_iso):\n",
    "    \"\"\"Efficiency of the turbine\"\"\"\n",
    "    efficiency = W_rg / W_iso * 100\n",
    "    return efficiency\n",
    "\n",
    "efficiency = eta(w_t, w_iso_t)\n",
    "print(f'Efficiency of the turbine used: {efficiency:0.2f}%')"
   ]
  }
 ],
 "metadata": {
  "kernelspec": {
   "display_name": "Python 3.7",
   "language": "python",
   "name": "python3"
  },
  "language_info": {
   "codemirror_mode": {
    "name": "ipython",
    "version": 3
   },
   "file_extension": ".py",
   "mimetype": "text/x-python",
   "name": "python",
   "nbconvert_exporter": "python",
   "pygments_lexer": "ipython3",
   "version": "3.7.0"
  }
 },
 "nbformat": 4,
 "nbformat_minor": 4
}
